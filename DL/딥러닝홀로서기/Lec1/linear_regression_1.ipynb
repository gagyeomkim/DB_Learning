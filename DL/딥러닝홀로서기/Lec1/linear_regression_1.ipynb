{
  "nbformat": 4,
  "nbformat_minor": 0,
  "metadata": {
    "colab": {
      "provenance": [],
      "authorship_tag": "ABX9TyOTc8/vSwOKiDL/nMZP8UFL",
      "include_colab_link": true
    },
    "kernelspec": {
      "name": "python3",
      "display_name": "Python 3"
    },
    "language_info": {
      "name": "python"
    }
  },
  "cells": [
    {
      "cell_type": "markdown",
      "metadata": {
        "id": "view-in-github",
        "colab_type": "text"
      },
      "source": [
        "<a href=\"https://colab.research.google.com/github/gagyeomkim/DB_Learning/blob/main/DL/%EB%94%A5%EB%9F%AC%EB%8B%9D%ED%99%80%EB%A1%9C%EC%84%9C%EA%B8%B0/Lec1/linear_regression_1.ipynb\" target=\"_parent\"><img src=\"https://colab.research.google.com/assets/colab-badge.svg\" alt=\"Open In Colab\"/></a>"
      ]
    },
    {
      "cell_type": "markdown",
      "source": [
        "코랩은 셀 단위로 코드가 실행됨  \n",
        "* 실행 단축키 : Ctrl+Enter"
      ],
      "metadata": {
        "id": "mj_39ap2ZrGs"
      }
    },
    {
      "cell_type": "code",
      "execution_count": null,
      "metadata": {
        "colab": {
          "base_uri": "https://localhost:8080/"
        },
        "id": "MPF9CgkKZQ8O",
        "outputId": "feeedd5f-ab26-4ce1-c9a8-48b49521ceb8"
      },
      "outputs": [
        {
          "output_type": "stream",
          "name": "stdout",
          "text": [
            "5\n"
          ]
        }
      ],
      "source": [
        "a = 5\n",
        "print(a)"
      ]
    },
    {
      "cell_type": "markdown",
      "source": [
        "* 이전 코드블럭에 실행된 결과를 다른 셸에서도 접근가능(RAM에 저장되어있어서)  \n",
        "* 데이터 전처리를 위한 프로세스가 있다고 가정해보자. 만약 데이터 전처리가 되고 나서야 학습을 하는 .py파일을 이용한다면, 그런데, 학습에 오류가 발생했을 시 매번 다시 데이터 전처리를 해야하고(어딘가에 데이터를 저장하지 않는다면), 디버깅도 오래걸리는 상황이 일어난다.\n",
        "* 이를 해결하기 위해 주피터 노트북을 만듦\n",
        "* 주피터 노트북은 계산된 결과가 사라지지 않는다. 학습에서 에러가 떠도 중간 결과가 램에 올라가 있어서 디버깅 사이클을 줄일 수 있다."
      ],
      "metadata": {
        "id": "u8n8XQscZ-ac"
      }
    },
    {
      "cell_type": "code",
      "source": [
        "b=3\n",
        "c=4\n",
        "print(a,b,c)"
      ],
      "metadata": {
        "colab": {
          "base_uri": "https://localhost:8080/"
        },
        "id": "VoXPrNrPZ4fK",
        "outputId": "a9a41688-c3ee-4547-c7d9-d8e7ba6998df"
      },
      "execution_count": null,
      "outputs": [
        {
          "output_type": "stream",
          "name": "stdout",
          "text": [
            "6 3 4\n"
          ]
        }
      ]
    },
    {
      "cell_type": "markdown",
      "source": [
        "* 주의해야할 점은 순서가 꼬일 수 있다는 점이다. a = 6으로 업데이트 하고 싶은 경우가 생겼을 때, 위에서부터 순서대로 실행해버리면, 두번째 셸에 해당 결과가 업데이트 되지 않는다. 따라서 순서를 잘 생각해야한다."
      ],
      "metadata": {
        "id": "NXXlnO2obFS-"
      }
    },
    {
      "cell_type": "code",
      "source": [
        "a = 6"
      ],
      "metadata": {
        "id": "hMaybB3DZ8Uv"
      },
      "execution_count": null,
      "outputs": []
    },
    {
      "cell_type": "markdown",
      "source": [
        "---  "
      ],
      "metadata": {
        "id": "4kiYb7u7bwrU"
      }
    },
    {
      "cell_type": "markdown",
      "source": [
        "#1. Data Generation (Preparation)\n",
        "Linear Regression 실습에 사용할 공부한 시간에 따른 성적 데이터를 만들어봅시다."
      ],
      "metadata": {
        "id": "b8MPIQ1oBhS2"
      }
    },
    {
      "cell_type": "code",
      "source": [
        "X = list(range(10))\n",
        "Y = [ 1, 1, 2, 4, 5, 7, 8, 9, 9, 10]\n",
        "print(len(Y))\n",
        "print(len(X))"
      ],
      "metadata": {
        "id": "asug9asJbCQB",
        "colab": {
          "base_uri": "https://localhost:8080/"
        },
        "outputId": "17fd090e-4c21-4e7f-c65b-85f9cdb33f8b"
      },
      "execution_count": 1,
      "outputs": [
        {
          "output_type": "stream",
          "name": "stdout",
          "text": [
            "10\n",
            "10\n"
          ]
        }
      ]
    },
    {
      "cell_type": "markdown",
      "source": [
        "X, Y 데이터를 2D 평면 상에 시각화 해볼까요?\n",
        "\n"
      ],
      "metadata": {
        "id": "w8n9bwn6BjS9"
      }
    },
    {
      "cell_type": "code",
      "source": [
        "import matplotlib.pyplot as plt #as는 별칭을 지정\n",
        "\n",
        "'''plot() : x축에 들어갈 값(list)와 y축에 들어갈 값(list)을 인자로 받아, 아래와 같이 입력시 x-y값을 그래프로 나타낸다.\n",
        "            plt 특성상 같은 셸 안의 함수를 모두 그려주기에, 중첩해서 사용이 가능하다. '''\n",
        "#plt.plot(X,Y)\n",
        "plt.scatter(X,Y)\n",
        "plt.show()"
      ],
      "metadata": {
        "colab": {
          "base_uri": "https://localhost:8080/",
          "height": 430
        },
        "id": "CoeM7rKV87eZ",
        "outputId": "e2774155-8560-40da-e3ba-ef0782706ec4"
      },
      "execution_count": 2,
      "outputs": [
        {
          "output_type": "display_data",
          "data": {
            "text/plain": [
              "<Figure size 640x480 with 1 Axes>"
            ],
            "image/png": "[encoded data removed]"
          },
          "metadata": {}
        }
      ]
    },
    {
      "cell_type": "markdown",
      "source": [
        "#2. Hypothesis Define (Model Define)\n",
        "Linear Regression 시에 활용하는 f(x) = Wx + b에서 b가 없는 간단한 버전인 f(x) = Wx 라는 모델(가설)을 구현해봅니다."
      ],
      "metadata": {
        "id": "E-yNEZphBaN4"
      }
    },
    {
      "cell_type": "code",
      "source": [
        "class H:\n",
        "    #메서드의 첫번째 인자는 꼭 self를 써야한다.\n",
        "    def __init__(self,w):\n",
        "    #처음에 모델의 파라미터(학습을 통해 최적화될 값) w를 인풋으로 받아 모델을 만들어준다.\n",
        "    #또한, self.w로 쓰지 않고 w로 쓰면 다른 메서드에서 해당 값을 쓸 수 없다. -> 객체변수로 접근해야한다.\n",
        "        self.w=w\n",
        "\n",
        "    #Pytorch에서는 h(x)를 통과시킬 때 forward라는 함수를 쓴다.\n",
        "    def forward(self,x):\n",
        "        #인스턴스(샘플) x가 인풋으로 들어왔을 때 모델이 예측하는 y값을 리턴한다.\n",
        "        return self.w * x\n",
        "\n",
        "def cost(h,X,Y):\n",
        "    error=0\n",
        "    #각각의 instance에 대해 cost를 구하기\n",
        "    for i in range(len(X)):\n",
        "        error += (h.forward(X[i]) - Y[i]) ** 2\n",
        "    error = error / len(X)\n",
        "    return error\n",
        "\n",
        "h=H(4) # w=4인 f(x)=4x라는 모델이 만들어짐\n",
        "print(h.w) #h의 객체변수 w에 접근\n",
        "cost(h,X,Y)"
      ],
      "metadata": {
        "colab": {
          "base_uri": "https://localhost:8080/"
        },
        "id": "-9jI0hrZ9juB",
        "outputId": "d2634eee-aef8-4151-8a7e-0f5959321950"
      },
      "execution_count": 23,
      "outputs": [
        {
          "output_type": "stream",
          "name": "stdout",
          "text": [
            "4\n"
          ]
        },
        {
          "output_type": "execute_result",
          "data": {
            "text/plain": [
              "222.2"
            ]
          },
          "metadata": {},
          "execution_count": 21
        },
        {
          "output_type": "stream",
          "name": "stdout",
          "text": [
            "4\n"
          ]
        },
        {
          "output_type": "execute_result",
          "data": {
            "text/plain": [
              "222.2"
            ]
          },
          "metadata": {},
          "execution_count": 23
        }
      ]
    },
    {
      "cell_type": "code",
      "source": [
        "list_w=[]\n",
        "list_c=[]\n",
        "for i in range(-100,100):\n",
        "    #w를 계속 변경해보는 코드\n",
        "    w = i * 0.1\n",
        "    h = H(w)\n",
        "    #변경된 w마다 cost Function 계산\n",
        "    c = cost(h,X,Y)\n",
        "    #그래프를 그려주기 위해 list로 변형\n",
        "    list_w.append(w)\n",
        "    list_c.append(c)\n",
        "\n",
        "'''plot() : x축에 들어갈 값(list)와 y축에 들어갈 값(list)을 인자로 받아, 아래와 같이 입력시 x-y값을 그래프로 나타낸다.\n",
        "            plt 특성상 같은 셸 안의 함수를 모두 그려주기에, 중첩해서 사용이 가능하다.\n",
        "            x,y에 대한 리스트를 넣는 것이 아니라, x에 대한 리스트, y에 대한 리스트를 따로 넣어주어야한다.\n",
        "            또한, x리스트와, y리스트의 길이가 같아야한다'''\n",
        "plt.figure(figsize=(1, 1))\n",
        "plt.xlabel('w')\n",
        "plt.ylabel('cost')\n",
        "plt.scatter(list_w, list_c, s=0.1)"
      ],
      "metadata": {
        "colab": {
          "base_uri": "https://localhost:8080/",
          "height": 332
        },
        "id": "lRG9nnaW_EDw",
        "outputId": "cdceb49e-76c7-4a8a-de78-f3663f39d0cc"
      },
      "execution_count": 24,
      "outputs": [
        {
          "output_type": "execute_result",
          "data": {
            "text/plain": [
              "<matplotlib.collections.PathCollection at 0x7dc34f9eaf20>"
            ]
          },
          "metadata": {},
          "execution_count": 22
        },
        {
          "output_type": "display_data",
          "data": {
            "text/plain": [
              "<Figure size 100x100 with 1 Axes>"
            ],
            "image/png": "[encoded data removed]"
          },
          "metadata": {}
        },
        {
          "output_type": "execute_result",
          "data": {
            "text/plain": [
              "<matplotlib.collections.PathCollection at 0x7dc34f7dea10>"
            ]
          },
          "metadata": {},
          "execution_count": 24
        },
        {
          "output_type": "display_data",
          "data": {
            "text/plain": [
              "<Figure size 100x100 with 1 Axes>"
            ],
            "image/png": "[encoded data removed]"
          },
          "metadata": {}
        }
      ]
    },
    {
      "cell_type": "markdown",
      "source": [
        "러닝메이트가 너무 크면 overshooting이 일어난다."
      ],
      "metadata": {
        "id": "vhH9jJ7Hst9V"
      }
    },
    {
      "cell_type": "code",
      "source": [
        "'''수치해석적 gradient'''\n",
        "def cal_grad(w, cost):\n",
        "    #원래 w에서 비용함수\n",
        "    h = H(w)\n",
        "    cost1 = cost(h, X, Y)\n",
        "    #w+입실론과 w의 차이로 기울기 구하려고함\n",
        "    eps = 0.00001\n",
        "    h= H(w+eps)\n",
        "    cost2 = cost(h, X, Y)\n",
        "    #gradient 구한 것\n",
        "    dcost = cost2-cost1\n",
        "    dw = eps\n",
        "    grad = dcost / dw\n",
        "    return grad, (cost1+cost2)/2\n",
        "\n",
        "'''편미분학적 gradient'''\n",
        "def cal_grad2(w,cost):\n",
        "    h=H(w)\n",
        "    grad = 0\n",
        "    for i in range(len(X)):\n",
        "        grad += 2 * (h.forward(X[i])-Y[i]) * X[i]\n",
        "    grad = grad / len(X)\n",
        "    c = cost(h, X, Y)\n",
        "    return grad, c\n",
        "\n",
        "#grad(4, cost) => 여기서 cost는 cost를 계산하는 함수를 인자로 넣어준 것\n",
        "w1=1.4\n",
        "w2=1.4\n",
        "lr = 0.01 #보통 10^-3부터 러닝메이트를 줘본다. -> 이후 cost를 통해 적절한 러닝메이트 확인\n",
        "\n",
        "list_w1 = []\n",
        "list_c1 = []\n",
        "list_w2 = []\n",
        "list_c2 = []\n",
        "for i in range(100):\n",
        "    grad1, mean_cost1 = cal_grad(w1,cost)\n",
        "    grad2, mean_cost2 = cal_grad2(w2,cost)\n",
        "    w1 -= lr * grad1\n",
        "    w2 -= lr * grad2\n",
        "\n",
        "    list_w1.append(w1)\n",
        "    list_w2.append(w2)\n",
        "    list_c1.append(mean_cost1)\n",
        "    list_c2.append(mean_cost2)\n",
        "\n",
        "    #print(f'w1일때의 grad {w1}, cost:', mean_cost1, f'\\nw2일때의 grad {w2}, cost:', mean_cost2)\n",
        "    #print('')\n",
        "plt.scatter(list_w1,list_c1, label = 'analytic', marker= '*')\n",
        "plt.scatter(list_w2,list_c2, label = 'formula')\n",
        "plt.legend()"
      ],
      "metadata": {
        "id": "jP0aJINfEG37",
        "colab": {
          "base_uri": "https://localhost:8080/",
          "height": 447
        },
        "outputId": "ff630cda-5440-4b11-8f23-28492d7cccad"
      },
      "execution_count": 59,
      "outputs": [
        {
          "output_type": "execute_result",
          "data": {
            "text/plain": [
              "<matplotlib.legend.Legend at 0x7dc34f3110c0>"
            ]
          },
          "metadata": {},
          "execution_count": 59
        },
        {
          "output_type": "display_data",
          "data": {
            "text/plain": [
              "<Figure size 640x480 with 1 Axes>"
            ],
            "image/png": "[encoded data removed]"
          },
          "metadata": {}
        }
      ]
    }
  ]
}