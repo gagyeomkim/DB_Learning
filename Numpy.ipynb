{
  "nbformat": 4,
  "nbformat_minor": 0,
  "metadata": {
    "colab": {
      "provenance": [],
      "authorship_tag": "ABX9TyNBhq10S/jS0z4EgUuntSab",
      "include_colab_link": true
    },
    "kernelspec": {
      "name": "python3",
      "display_name": "Python 3"
    },
    "language_info": {
      "name": "python"
    }
  },
  "cells": [
    {
      "cell_type": "markdown",
      "metadata": {
        "id": "view-in-github",
        "colab_type": "text"
      },
      "source": [
        "<a href=\"https://colab.research.google.com/github/gagyeomkim/DB_Learning/blob/main/Numpy.ipynb\" target=\"_parent\"><img src=\"https://colab.research.google.com/assets/colab-badge.svg\" alt=\"Open In Colab\"/></a>"
      ]
    },
    {
      "cell_type": "markdown",
      "source": [
        "# Optional Lab: Python, NumPy and Vectorization\n",
        "일부 컴퓨터 과학에 대한 간략한 소개입니다. 특히 NumPy 패키지와 파이썬을 통한 NumPy의 사용을 다루었습니다.\n",
        "\n",
        "# Outline\n",
        "- [&nbsp;&nbsp;1.1 Goals](#toc_40015_1.1)\n",
        "- [&nbsp;&nbsp;1.2 Useful References](#toc_40015_1.2)\n",
        "- [2 Python and NumPy <a name='Python and NumPy'></a>](#toc_40015_2)\n",
        "- [3 Vectors](#toc_40015_3)\n",
        "- [&nbsp;&nbsp;3.1 Abstract](#toc_40015_3.1)\n",
        "- [&nbsp;&nbsp;3.2 NumPy Arrays](#toc_40015_3.2)\n",
        "- [&nbsp;&nbsp;3.3 Vector Creation](#toc_40015_3.3)\n",
        "- [&nbsp;&nbsp;3.4 Operations on Vectors](#toc_40015_3.4)\n",
        "- [4 Matrices](#toc_40015_4)\n",
        "- [&nbsp;&nbsp;4.1 Abstract](#toc_40015_4.1)\n",
        "- [&nbsp;&nbsp;4.2 NumPy Arrays](#toc_40015_4.2)\n",
        "- [&nbsp;&nbsp;4.3 Matrix Creation](#toc_40015_4.3)\n",
        "- [&nbsp;&nbsp;4.4 Operations on Matrices](#toc_40015_4.4)\n"
      ],
      "metadata": {
        "id": "fz2j_rGlwFK6"
      }
    },
    {
      "cell_type": "code",
      "execution_count": 2,
      "metadata": {
        "id": "n9zSAMpTwCP1"
      },
      "outputs": [],
      "source": [
        "import numpy as np #numpy사용을 위한 별칭입니다.\n",
        "import time"
      ]
    },
    {
      "cell_type": "markdown",
      "source": [
        "<a name=\"toc_40015_1.1\"></a>\n",
        "## 1.1 Goals\n",
        "해당 실험실의 목표:\n",
        "- Couse 1에서 사용되는 NumPy 및 Python 기능을 검토한다."
      ],
      "metadata": {
        "id": "f0dVTeFPwfnz"
      }
    },
    {
      "cell_type": "markdown",
      "source": [
        "<a name=\"toc_40015_1.2\"></a>\n",
        "## 1.2 Useful References\n",
        "- NumPy Documentation including a basic introduction: [NumPy.org](https://NumPy.org/doc/stable/)\n",
        "- A challenging feature topic: [NumPy Broadcasting](https://NumPy.org/doc/stable/user/basics.broadcasting.html)\n"
      ],
      "metadata": {
        "id": "RxOdo5TuwgeP"
      }
    },
    {
      "cell_type": "markdown",
      "source": [
        "<a name=\"toc_40015_2\"></a>\n",
        "# 2 Python and NumPy <a name='Python and NumPy'></a>\n",
        "이 과정에서 사용할 프로그래밍 언어는 Python입니다. 파이썬에는 숫자 데이터 유형과 산술 연산 기능을 담고 있습니다. NumPy는 Python의 기본 기능을 확장하여 더 많은 숫자 유형, 벡터, 행렬 및 많은 행렬 함수를 포함한 더 풍부한 데이터 세트를 추가하는 라이브러리입니다. 또한, NumPy와 Python은 매우 원활하게 함께 작동합니다. Python 산술 연산자는 NumPy 데이터 유형에서 작동하며 많은 NumPy 함수는 Python 데이터 유형을 허용합니다."
      ],
      "metadata": {
        "id": "CRJF_023whIr"
      }
    },
    {
      "cell_type": "markdown",
      "source": [
        "<a name=\"toc_40015_3\"></a>\n",
        "# 3 Vectors\n",
        "<a name=\"toc_40015_3.1\"></a>\n",
        "## 3.1 Abstract\n",
        "![image.png](data:image/png;base64,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)\n",
        "\n",
        "\n",
        "* 벡터는 이 과정에서 사용하게 될 숫자의 정렬된 배열입니다.\n",
        "* 표기법에서 벡터는 $\\mathbf{x}$와 같은 굵은 소문자로 표시합니다. 벡터의 element는 모두 같은 타입이어야합니다(문자형, 정수형..등등). 예를 들어 벡터는 문자와 숫자를 모두 포함하지 않습니다.\n",
        "* 배열의 element의 개수는 종종 *dimension(차원)*이라고 하지만 수학자는 *rank*를 선호할 수 있습니다. 표시된 벡터의 차원은 $𝑛$입니다.\n",
        "* 또한, 벡터의 element는 index로 참조할 수 있습니다. 수학 설정에서 인덱스는 일반적으로 1에서 $n$까지이지만 컴퓨터 과학 및 이러한 랩에서 인덱싱은 일반적으로 0에서 $n-1$까지입니다.\n",
        "* 표기법에서 벡터의 요소는 개별적으로 참조될 때 아래 첨자로 인덱스를 나타냅니다. 예를 들어 벡터 $\\mathbf{x}$의 $0^{𝑡ℎ}$ 요소는 $x_0$입니다. (이 경우 $x$는 굵은 글씨가 아닙니다.)\n"
      ],
      "metadata": {
        "id": "Drylg9-exNsc"
      }
    },
    {
      "cell_type": "markdown",
      "source": [
        "<a name=\"toc_40015_3.2\"></a>\n",
        "## 3.2 NumPy Arrays\n",
        "\n",
        "NumPy의 기본 데이터 구조는 같은 유형(dtype)의 요소를 포함하는 indexing 가능한 n**차원** 배열입니다. 여기서, 'dimension(차원)'이라는 용어를 이용한 것을 알아차릴 수 있습니다. 위에서는 벡터의 element 개수였지만, 여기서 dimension이란 배열의 indexes(행과 열로 이루어진 목록)를 나타냅니다. 1차원 또는 1차원 배열은 인덱스(목록)가 하나 있습니다. 과정 1에서 벡터를 NumPy 1차원 배열로 표현합니다.\n",
        "\n",
        " - 1-D array or shape `(n,)`: [0]에서 [n-1]까지 indexing된 n개의 요소\n",
        ""
      ],
      "metadata": {
        "id": "2XKffu5_jOT6"
      }
    },
    {
      "cell_type": "markdown",
      "source": [
        "<a name=\"toc_40015_3.3\"></a>\n",
        "## 3.3 Vector Creation\n"
      ],
      "metadata": {
        "id": "wsoUdOhMkosW"
      }
    },
    {
      "cell_type": "markdown",
      "source": [
        "Numpy에서의 데이터 생성은 일반적으로 첫 파라미터(요소)로 해당 객체의 shape를 가집니다. 이는 1차원 결과에 대한 단일 값이거나 결과의 모양을 지정하는 튜플(n,m,...)일 수 있습니다. 이러한 루틴을 사용하여 벡터를 생성하는 예는 다음과 같습니다."
      ],
      "metadata": {
        "id": "Fnsq7UPYkq4b"
      }
    },
    {
      "cell_type": "code",
      "source": [
        "# NumPy routines which allocate memory and fill arrays with value\n",
        "a = np.zeros(4);                print(f\"np.zeros(4) :   a = {a}, a shape = {a.shape}, a data type = {a.dtype}\")\n",
        "a = np.zeros((4,));             print(f\"np.zeros(4,) :  a = {a}, a shape = {a.shape}, a data type = {a.dtype}\")\n",
        "a = np.random.random_sample(4); print(f\"np.random.random_sample(4): a = {a}, a shape = {a.shape}, a data type = {a.dtype}\")"
      ],
      "metadata": {
        "colab": {
          "base_uri": "https://localhost:8080/"
        },
        "id": "2TQoqwZ5xxTz",
        "outputId": "9df24999-ef99-4918-97c1-eff5e8e2692b"
      },
      "execution_count": 3,
      "outputs": [
        {
          "output_type": "stream",
          "name": "stdout",
          "text": [
            "np.zeros(4) :   a = [0. 0. 0. 0.], a shape = (4,), a data type = float64\n",
            "np.zeros(4,) :  a = [0. 0. 0. 0.], a shape = (4,), a data type = float64\n",
            "np.random.random_sample(4): a = [0.30332174 0.53593039 0.34289609 0.23051956], a shape = (4,), a data type = float64\n"
          ]
        }
      ]
    },
    {
      "cell_type": "markdown",
      "source": [
        "일부 데이터 생성에는 튜플이 사용되지 않습니다."
      ],
      "metadata": {
        "id": "7a8lAk9RlQKX"
      }
    },
    {
      "cell_type": "code",
      "source": [
        "# NumPy routines which allocate memory and fill arrays with value but do not accept shape as input argument\n",
        "a = np.arange(4.);              print(f\"np.arange(4.):     a = {a}, a shape = {a.shape}, a data type = {a.dtype}\")\n",
        "a = np.random.rand(4);          print(f\"np.random.rand(4): a = {a}, a shape = {a.shape}, a data type = {a.dtype}\")"
      ],
      "metadata": {
        "colab": {
          "base_uri": "https://localhost:8080/"
        },
        "id": "8HEMKoA8k-qn",
        "outputId": "8fa63b24-87db-4b63-bbe1-dec546b6e252"
      },
      "execution_count": 4,
      "outputs": [
        {
          "output_type": "stream",
          "name": "stdout",
          "text": [
            "np.arange(4.):     a = [0. 1. 2. 3.], a shape = (4,), a data type = float64\n",
            "np.random.rand(4): a = [0.9527924  0.83874264 0.55669715 0.95933773], a shape = (4,), a data type = float64\n"
          ]
        }
      ]
    },
    {
      "cell_type": "markdown",
      "source": [
        "값은 수동으로 지정될 수도 있습니다."
      ],
      "metadata": {
        "id": "cdd81h4PlZ4w"
      }
    },
    {
      "cell_type": "code",
      "source": [
        "# NumPy routines which allocate memory and fill with user specified values\n",
        "a = np.array([5,4,3,2]);  print(f\"np.array([5,4,3,2]):  a = {a},     a shape = {a.shape}, a data type = {a.dtype}\")\n",
        "a = np.array([5.,4,3,2]); print(f\"np.array([5.,4,3,2]): a = {a}, a shape = {a.shape}, a data type = {a.dtype}\")"
      ],
      "metadata": {
        "colab": {
          "base_uri": "https://localhost:8080/"
        },
        "id": "r_kJRYsqlUp4",
        "outputId": "164e166b-8460-4d96-a9c3-4e4834e13be4"
      },
      "execution_count": 5,
      "outputs": [
        {
          "output_type": "stream",
          "name": "stdout",
          "text": [
            "np.array([5,4,3,2]):  a = [5 4 3 2],     a shape = (4,), a data type = int64\n",
            "np.array([5.,4,3,2]): a = [5. 4. 3. 2.], a shape = (4,), a data type = float64\n"
          ]
        }
      ]
    },
    {
      "cell_type": "markdown",
      "source": [
        "* 위의 예시들은 모두 4개의 element를 가진 1차원 벡터 a를 만듭니다.\n",
        "* `a.shpae`는 dimension 개수를 리턴합니다.\n",
        "* `a.shape = (4,)`라는 것은 4개의 element를 가진 1-d array를 의미합니다"
      ],
      "metadata": {
        "id": "BE_f1qW2ltm1"
      }
    },
    {
      "cell_type": "markdown",
      "source": [
        "<a name=\"toc_40015_3.4\"></a>\n",
        "## 3.4 Operations on Vectors\n",
        "벡터를 사용하기 위한 몇가지 작업을 살펴봅시다\n",
        "indexing과 slicing은 기초적 문법이니 따로 해석하지 않았다.\n",
        "<a name=\"toc_40015_3.4.1\"></a>\n",
        "### 3.4.1 Indexing\n",
        "Elements of vectors can be accessed via indexing and slicing. NumPy provides a very complete set of indexing and slicing capabilities. We will explore only the basics needed for the course here. Reference [Slicing and Indexing](https://NumPy.org/doc/stable/reference/arrays.indexing.html) for more details.  \n",
        "**Indexing** means referring to *an element* of an array by its position within the array.  \n",
        "**Slicing** means getting a *subset* of elements from an array based on their indices.  \n",
        "NumPy starts indexing at zero so the 3rd element of an vector $\\mathbf{a}$ is `a[2]`."
      ],
      "metadata": {
        "id": "sZnopuYymD2v"
      }
    },
    {
      "cell_type": "code",
      "source": [
        "#vector indexing operations on 1-D vectors\n",
        "a = np.arange(10)\n",
        "print(a)\n",
        "\n",
        "#access an element\n",
        "print(f\"a[2].shape: {a[2].shape} a[2]  = {a[2]}, Accessing an element returns a scalar\")\n",
        "\n",
        "# access the last element, negative indexes count from the end\n",
        "print(f\"a[-1] = {a[-1]}\")\n",
        "\n",
        "#indexs must be within the range of the vector or they will produce and error\n",
        "try:\n",
        "    c = a[10]\n",
        "except Exception as e:\n",
        "    print(\"The error message you'll see is:\")\n",
        "    print(e)"
      ],
      "metadata": {
        "colab": {
          "base_uri": "https://localhost:8080/"
        },
        "id": "gjqTjH8rlb8X",
        "outputId": "490754d9-a207-4fee-dba8-996bf7b80a85"
      },
      "execution_count": 6,
      "outputs": [
        {
          "output_type": "stream",
          "name": "stdout",
          "text": [
            "[0 1 2 3 4 5 6 7 8 9]\n",
            "a[2].shape: () a[2]  = 2, Accessing an element returns a scalar\n",
            "a[-1] = 9\n",
            "The error message you'll see is:\n",
            "index 10 is out of bounds for axis 0 with size 10\n"
          ]
        }
      ]
    },
    {
      "cell_type": "markdown",
      "source": [
        "<a name=\"toc_40015_3.4.2\"></a>\n",
        "### 3.4.2 Slicing\n",
        "Slicing creates an array of indices using a set of three values (`start:stop:step`). A subset of values is also valid. Its use is best explained by example:"
      ],
      "metadata": {
        "id": "XJRtcSSlmZXF"
      }
    },
    {
      "cell_type": "code",
      "source": [
        "#vector slicing operations\n",
        "a = np.arange(10)\n",
        "print(f\"a         = {a}\")\n",
        "\n",
        "#access 5 consecutive elements (start:stop:step)\n",
        "c = a[2:7:1];     print(\"a[2:7:1] = \", c)\n",
        "\n",
        "# access 3 elements separated by two\n",
        "c = a[2:7:2];     print(\"a[2:7:2] = \", c)\n",
        "\n",
        "# access all elements index 3 and above\n",
        "c = a[3:];        print(\"a[3:]    = \", c)\n",
        "\n",
        "# access all elements below index 3\n",
        "c = a[:3];        print(\"a[:3]    = \", c)\n",
        "\n",
        "# access all elements\n",
        "c = a[:];         print(\"a[:]     = \", c)"
      ],
      "metadata": {
        "colab": {
          "base_uri": "https://localhost:8080/"
        },
        "id": "gdJB8KRRmIPW",
        "outputId": "29b9d5cb-bd21-4107-a1e5-e5adf9d378d0"
      },
      "execution_count": 7,
      "outputs": [
        {
          "output_type": "stream",
          "name": "stdout",
          "text": [
            "a         = [0 1 2 3 4 5 6 7 8 9]\n",
            "a[2:7:1] =  [2 3 4 5 6]\n",
            "a[2:7:2] =  [2 4 6]\n",
            "a[3:]    =  [3 4 5 6 7 8 9]\n",
            "a[:3]    =  [0 1 2]\n",
            "a[:]     =  [0 1 2 3 4 5 6 7 8 9]\n"
          ]
        }
      ]
    },
    {
      "cell_type": "markdown",
      "source": [
        "<a name=\"toc_40015_3.4.3\"></a>\n",
        "### 3.4.3 Single vector operations\n",
        "There are a number of useful operations that involve operations on a single vector."
      ],
      "metadata": {
        "id": "z7I_wdA9mgis"
      }
    },
    {
      "cell_type": "code",
      "source": [
        "a = np.array([1,2,3,4])\n",
        "print(f\"a             : {a}\")\n",
        "# negate elements of a\n",
        "b = -a\n",
        "print(f\"b = -a        : {b}\")\n",
        "\n",
        "# sum all elements of a, returns a scalar\n",
        "b = np.sum(a)\n",
        "print(f\"b = np.sum(a) : {b}\")\n",
        "\n",
        "b = np.mean(a)\n",
        "print(f\"b = np.mean(a): {b}\")\n",
        "\n",
        "b = a**2\n",
        "print(f\"b = a**2      : {b}\")"
      ],
      "metadata": {
        "colab": {
          "base_uri": "https://localhost:8080/"
        },
        "id": "f-mK9N17meQE",
        "outputId": "91e1c574-a9e1-4756-91b3-be94f4f4610a"
      },
      "execution_count": 8,
      "outputs": [
        {
          "output_type": "stream",
          "name": "stdout",
          "text": [
            "a             : [1 2 3 4]\n",
            "b = -a        : [-1 -2 -3 -4]\n",
            "b = np.sum(a) : 10\n",
            "b = np.mean(a): 2.5\n",
            "b = a**2      : [ 1  4  9 16]\n"
          ]
        }
      ]
    },
    {
      "cell_type": "markdown",
      "source": [
        "<a name=\"toc_40015_3.4.4\"></a>\n",
        "### 3.4.4 Vector Vector element-wise operations\n",
        "Numpy의 산술, 논리 및 비교 연산의 대부분은 벡터에도 잘 적용된다. 이러한 연산자들은 element 별로 작동한다. 예를 들어 아래와 같이 i번째 element 끼리 연산자가 수행된다.\n",
        "$$ c_i = a_i + b_i $$"
      ],
      "metadata": {
        "id": "clFrIHqOmqjA"
      }
    },
    {
      "cell_type": "code",
      "source": [
        "a = np.array([ 1, 2, 3, 4])\n",
        "b = np.array([-1,-2, 3, 4])\n",
        "print(f\"Binary operators work element wise: {a + b}\")"
      ],
      "metadata": {
        "colab": {
          "base_uri": "https://localhost:8080/"
        },
        "id": "jWbv-YKCmor8",
        "outputId": "22eeedcc-4a40-4df1-f170-4209b50687d5"
      },
      "execution_count": 10,
      "outputs": [
        {
          "output_type": "stream",
          "name": "stdout",
          "text": [
            "Binary operators work element wise: [0 0 6 8]\n"
          ]
        }
      ]
    },
    {
      "cell_type": "markdown",
      "source": [
        "물론, 작업이 올바르게 되기 위해서는 벡터가 같은 크기를 가지고 있어야한다."
      ],
      "metadata": {
        "id": "i9fuD5cum_EX"
      }
    },
    {
      "cell_type": "code",
      "source": [
        "#try a mismatched vector operation\n",
        "c = np.array([1, 2])\n",
        "try:\n",
        "    d = a + c\n",
        "except Exception as e:\n",
        "    print(\"The error message you'll see is:\")\n",
        "    print(e)"
      ],
      "metadata": {
        "colab": {
          "base_uri": "https://localhost:8080/"
        },
        "id": "7SAJrjhdm813",
        "outputId": "aa8c32f3-1683-4a8f-f327-41a2b373fee5"
      },
      "execution_count": 11,
      "outputs": [
        {
          "output_type": "stream",
          "name": "stdout",
          "text": [
            "The error message you'll see is:\n",
            "operands could not be broadcast together with shapes (4,) (2,) \n"
          ]
        }
      ]
    },
    {
      "cell_type": "markdown",
      "source": [
        "<a name=\"toc_40015_3.4.5\"></a>\n",
        "### 3.4.5 Scalar Vector operations\n",
        "벡터는 스칼라 값을 통해 '확대&축소' 될 수 있다. scalar는 숫자이며, 스칼라는 벡터의 모든 요소에 곱해진다."
      ],
      "metadata": {
        "id": "CPeIpsudnFnC"
      }
    },
    {
      "cell_type": "code",
      "source": [
        "a = np.array([1, 2, 3, 4])\n",
        "\n",
        "# multiply a by a scalar\n",
        "b = 5 * a\n",
        "print(f\"b = 5 * a : {b}\")"
      ],
      "metadata": {
        "colab": {
          "base_uri": "https://localhost:8080/"
        },
        "id": "Wfau2SGCnDIU",
        "outputId": "5569e602-f7af-4e6f-c556-f142875a469b"
      },
      "execution_count": 12,
      "outputs": [
        {
          "output_type": "stream",
          "name": "stdout",
          "text": [
            "b = 5 * a : [ 5 10 15 20]\n"
          ]
        }
      ]
    },
    {
      "cell_type": "markdown",
      "source": [
        "<a name=\"toc_40015_3.4.6\"></a>\n",
        "### 3.4.6 Vector Vector dot product\n",
        "dot product(내적)은 선형 대수학과 Numpy의 핵심이다. 이는 이 과정에서 광범위 하게 사용되는 작업이므로 잘 이해해야한다. 내적은 아래와 같다."
      ],
      "metadata": {
        "id": "wwLDesEpnVRD"
      }
    },
    {
      "cell_type": "markdown",
      "source": [
        "![image.png](data:image/png;base64,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)"
      ],
      "metadata": {
        "id": "_o6S5mZvnkTf"
      }
    },
    {
      "cell_type": "markdown",
      "source": [
        "dot product는 두 벡터의 값을 요소별로 곱한 다음 결과를 합산한다. 벡터 내적은 두벡터의 dimension(element 개수가 아닌 목록의 개수)이 동일해야한다."
      ],
      "metadata": {
        "id": "kxF-LPrVnmJH"
      }
    },
    {
      "cell_type": "markdown",
      "source": [
        "dot product를 수행해보자.\n",
        "\n",
        "**Using a for loop**, implement a function which returns the dot product of two vectors. The function to return given inputs $a$ and $b$:\n",
        "$$ x = \\sum_{i=0}^{n-1} a_i b_i $$\n",
        " `a` 와 `b`가 같은 shape를 가지고 있다고 가정하자."
      ],
      "metadata": {
        "id": "XnrbEuapnypx"
      }
    },
    {
      "cell_type": "code",
      "source": [
        "def my_dot(a, b):\n",
        "    \"\"\"\n",
        "   Compute the dot product of two vectors\n",
        "\n",
        "    Args:\n",
        "      a (ndarray (n,)):  input vector\n",
        "      b (ndarray (n,)):  input vector with same dimension as a\n",
        "\n",
        "    Returns:\n",
        "      x (scalar):\n",
        "    \"\"\"\n",
        "    x=0\n",
        "    for i in range(a.shape[0]):\n",
        "        x = x + a[i] * b[i]\n",
        "    return x"
      ],
      "metadata": {
        "id": "mdP5wpronTz1"
      },
      "execution_count": 13,
      "outputs": []
    },
    {
      "cell_type": "code",
      "source": [
        "# test 1-D\n",
        "a = np.array([1, 2, 3, 4])\n",
        "b = np.array([-1, 4, 3, 2])\n",
        "print(f\"my_dot(a, b) = {my_dot(a, b)}\")"
      ],
      "metadata": {
        "colab": {
          "base_uri": "https://localhost:8080/"
        },
        "id": "fYVB0WWZn-0Q",
        "outputId": "31d480fb-ab94-4188-bc37-5c27d1e9f42e"
      },
      "execution_count": 14,
      "outputs": [
        {
          "output_type": "stream",
          "name": "stdout",
          "text": [
            "my_dot(a, b) = 24\n"
          ]
        }
      ]
    },
    {
      "cell_type": "markdown",
      "source": [
        "dot product는 scalar값을 돌려준다.\n",
        "\n",
        "`np.dot`을 사용한 같은 연산을 수행해보자.  "
      ],
      "metadata": {
        "id": "CvuGMgi8oT0Y"
      }
    },
    {
      "cell_type": "code",
      "source": [
        "# test 1-D\n",
        "a = np.array([1, 2, 3, 4])\n",
        "b = np.array([-1, 4, 3, 2])\n",
        "c = np.dot(a, b)\n",
        "print(f\"NumPy 1-D np.dot(a, b) = {c}, np.dot(a, b).shape = {c.shape} \")\n",
        "c = np.dot(b, a)\n",
        "print(f\"NumPy 1-D np.dot(b, a) = {c}, np.dot(a, b).shape = {c.shape} \")\n"
      ],
      "metadata": {
        "colab": {
          "base_uri": "https://localhost:8080/"
        },
        "id": "QP2rSHLsoOTF",
        "outputId": "c847a0aa-0bcd-45c4-fe64-81df3116eef0"
      },
      "execution_count": 15,
      "outputs": [
        {
          "output_type": "stream",
          "name": "stdout",
          "text": [
            "NumPy 1-D np.dot(a, b) = 24, np.dot(a, b).shape = () \n",
            "NumPy 1-D np.dot(b, a) = 24, np.dot(a, b).shape = () \n"
          ]
        }
      ]
    },
    {
      "cell_type": "markdown",
      "source": [
        "1-D에 대한 결과가 우리가 구현한 것과 일치함을 확인할 수 있다."
      ],
      "metadata": {
        "id": "Q9cN2OeeoeTI"
      }
    },
    {
      "cell_type": "markdown",
      "source": [
        "<a name=\"toc_40015_3.4.7\"></a>\n",
        "### 3.4.7 The Need for Speed: vector vs for loop\n",
        "Numpy라이브러리는 메모리 효율성을 향상시키기 위해서 활용된다. 실험해보자"
      ],
      "metadata": {
        "id": "okx1Rygeom_o"
      }
    },
    {
      "cell_type": "code",
      "source": [
        "np.random.seed(1)\n",
        "a = np.random.rand(10000000)  # very large arrays\n",
        "b = np.random.rand(10000000)\n",
        "\n",
        "tic = time.time()  # capture start time\n",
        "c = np.dot(a, b)\n",
        "toc = time.time()  # capture end time\n",
        "\n",
        "print(f\"np.dot(a, b) =  {c:.4f}\")\n",
        "print(f\"Vectorized version duration: {1000*(toc-tic):.4f} ms \")\n",
        "\n",
        "tic = time.time()  # capture start time\n",
        "c = my_dot(a,b)\n",
        "toc = time.time()  # capture end time\n",
        "\n",
        "print(f\"my_dot(a, b) =  {c:.4f}\")\n",
        "print(f\"loop version duration: {1000*(toc-tic):.4f} ms \")\n",
        "\n",
        "del(a);del(b)  #remove these big arrays from memory"
      ],
      "metadata": {
        "colab": {
          "base_uri": "https://localhost:8080/"
        },
        "id": "gcW2bYT0ob-S",
        "outputId": "53325e26-f059-4700-b664-aa8a17766c1f"
      },
      "execution_count": 16,
      "outputs": [
        {
          "output_type": "stream",
          "name": "stdout",
          "text": [
            "np.dot(a, b) =  2501072.5817\n",
            "Vectorized version duration: 12.8932 ms \n",
            "my_dot(a, b) =  2501072.5817\n",
            "loop version duration: 3887.9116 ms \n"
          ]
        }
      ]
    },
    {
      "cell_type": "markdown",
      "source": [
        "따라서 벡터화는 이 예에서 큰 속도 향상을 제공합니다. 이는 NumPy가 기본 하드웨어에서 사용 가능한 데이터 병렬성을 더 잘 활용하기 때문입니다. GPU와 최신 CPU는 SIMD(Single Instruction, Multiple Data) 파이프라인을 구현하여 여러 작업을 병렬로 실행할 수 있습니다. 이는 데이터 세트가 종종 매우 큰 머신 러닝에서 중요합니다."
      ],
      "metadata": {
        "id": "9EZVKUeLowpf"
      }
    },
    {
      "cell_type": "markdown",
      "source": [
        "<a name=\"toc_12345_3.4.8\"></a>\n",
        "### 3.4.8 Vector Vector operations in Course 1\n",
        "벡터와 벡터 연산은 course1에서 자주 나타난다. 이유를 살펴보자:\n",
        "- 앞으로 (training)example은 (m,n)차원인 배열 `X_train`에 저장될 것이다. 이후 더 자세히 설명되겠지만, 여기서는 2차원 배열 또는 행렬(matrix)라는 점에 유의하는 것이 중요하다.(행렬에 대한 다음 section 참조)\n",
        "- `w`는 shape이 (n,)인 1차원 벡터이다.\n",
        "- 우리는 example을 반복하면서 연산을 수행하고 X를 인덱싱 하여 각 example을 개별적으로 작업할 수 있게 추출한다. ex.`X[i]`\n",
        "- `X[i]` 는 1차원 벡터인 shape (n,)를 반환한다. `X[i]`와 관련된 연산은 종종 vector-vector이다.  \n",
        "\n",
        "즉, 벡터 연산을 수행할 때 피연산자의 shape을 정렬하고 이해하는 것이 중요하다."
      ],
      "metadata": {
        "id": "I-qRnKYkozSz"
      }
    },
    {
      "cell_type": "code",
      "source": [
        "# show common Course 1 example\n",
        "X = np.array([[1],[2],[3],[4]])\n",
        "w = np.array([2])\n",
        "c = np.dot(X[1], w)\n",
        "\n",
        "print(f\"X[1] has shape {X[1].shape}\")\n",
        "print(f\"w has shape {w.shape}\")\n",
        "print(f\"c has shape {c.shape}\") #scalar값이라 shape이 나타나지 않는다."
      ],
      "metadata": {
        "colab": {
          "base_uri": "https://localhost:8080/"
        },
        "id": "AyFf0sXYooWD",
        "outputId": "4b49f78d-0c37-462a-aae5-986d271c61dc"
      },
      "execution_count": 18,
      "outputs": [
        {
          "output_type": "stream",
          "name": "stdout",
          "text": [
            "X[1] has shape (1,)\n",
            "w has shape (1,)\n",
            "c has shape ()\n"
          ]
        }
      ]
    },
    {
      "cell_type": "markdown",
      "source": [
        "<a name=\"toc_40015_4\"></a>\n",
        "# 4 Matrices\n"
      ],
      "metadata": {
        "id": "5uugqJEcqBTw"
      }
    },
    {
      "cell_type": "markdown",
      "source": [
        "<a name=\"toc_40015_4.1\"></a>\n",
        "## 4.1 Abstract\n",
        "행렬(matrices)은 2차우너 배열이다. 행렬의 element는 같은 dtype이어야한다.\n",
        " 표기법에서 행렬은 $\\mathbf{X}$와 같은 대문자, 굵은 문자로 표시됩니다. 이 랩과 다른 랩에서 `m`은 종종 행(row)의 수이고 `n`은 열(column)의 수입니다. 행렬의 요소는 2차원 인덱스로 참조할 수 있습니다. 수학 설정에서 인덱스의 숫자는 일반적으로 1에서 n까지입니다. 컴퓨터 과학과 이러한 랩에서 인덱싱은 0에서 n-1까지입니다.\n"
      ],
      "metadata": {
        "id": "b6HaY0uNqCkk"
      }
    },
    {
      "cell_type": "markdown",
      "source": [
        "![image.png](data:image/png;base64,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)\n",
        "\n",
        "일반 행렬 표기법, 첫번째 index는 row, 두번째 index는 coulmn입니다.  \n",
        "\n",
        "여기서 기억할만한 점은 row는 example의 개수, column은 feature의 개수로 판단하고 들어가자"
      ],
      "metadata": {
        "id": "X3ikLAj0qHmk"
      }
    },
    {
      "cell_type": "markdown",
      "source": [
        "<a name=\"toc_40015_4.2\"></a>\n",
        "## 4.2 NumPy Arrays\n",
        "\n",
        "NumPy의 기본 데이터 구조는 동일한 유형(`dtype`)의 요소를 포함하는 indexing 가능한 n차원 배열입니다. 이는 이전에 설명했는데, 행렬은 2차원(2-D) 인덱스 [m,n]을 갖습니다.\n",
        "\n",
        "Course1에서 2차원 행렬은 training data를 보관하는데 사용됩니다. **Training data는 $m$ 개의 예이며 $n$개의 feature로 (m,n) array를 만듧니다**.과정 1은 행렬에서 직접적인 연산을 수행하진 않지만 일반적으로 example들을 vector로 추출하여 연산합니다. 아래에서 복습할 수 있습니다.\n",
        "- data creation\n",
        "- slicing and indexing"
      ],
      "metadata": {
        "id": "d_ZAAD_-qlpl"
      }
    },
    {
      "cell_type": "markdown",
      "source": [
        "<a name=\"toc_40015_4.3\"></a>\n",
        "## 4.3 Matrix Creation(행렬 생성)\n",
        "1-d vector를 만들었던 같은 함수가 2-d 또는 n-d array를 만드는데 사용됩니다. 해당 예시들을 아래에서 살펴볼 수 있습니다."
      ],
      "metadata": {
        "id": "SQSn3TJgrXSD"
      }
    },
    {
      "cell_type": "markdown",
      "source": [
        "아래에서는 2차원 결과를 얻기 위해 tuple이 제공된다. Numpy가 괄호를 사용하여 각 dimemsion을 표시하는 방법에 주목해라.  \n",
        "numpy보다 중요한 점은 print 사용시 한줄에 한 행씩 인쇄한다는 것이다.\n"
      ],
      "metadata": {
        "id": "B4bATOUurY3S"
      }
    },
    {
      "cell_type": "code",
      "source": [
        "a = np.zeros((1, 5))\n",
        "print(f\"a shape = {a.shape}, a = {a}\")\n",
        "\n",
        "a = np.zeros((2, 1))\n",
        "print(f\"a shape = {a.shape}, a = {a}\")\n",
        "\n",
        "a = np.random.random_sample((1, 1))\n",
        "print(f\"a shape = {a.shape}, a = {a}\")"
      ],
      "metadata": {
        "colab": {
          "base_uri": "https://localhost:8080/"
        },
        "id": "qqmCHb30p1LZ",
        "outputId": "fc5317b3-8688-43f6-9881-32380d4957ea"
      },
      "execution_count": 19,
      "outputs": [
        {
          "output_type": "stream",
          "name": "stdout",
          "text": [
            "a shape = (1, 5), a = [[0. 0. 0. 0. 0.]]\n",
            "a shape = (2, 1), a = [[0.]\n",
            " [0.]]\n",
            "a shape = (1, 1), a = [[0.44236513]]\n"
          ]
        }
      ]
    },
    {
      "cell_type": "markdown",
      "source": [
        "One can also manually specify data. Dimensions are specified with additional brackets matching the format in the printing above."
      ],
      "metadata": {
        "id": "hHKcDl9ZrafJ"
      }
    },
    {
      "cell_type": "code",
      "source": [
        "# NumPy routines which allocate memory and fill with user specified values\n",
        "a = np.array([[5], [4], [3]]);   print(f\" a shape = {a.shape}, np.array: a = {a}\")\n",
        "a = np.array([[5],   # One can also\n",
        "              [4],   # separate values\n",
        "              [3]]); #into separate rows\n",
        "print(f\" a shape = {a.shape}, np.array: a = {a}\")"
      ],
      "metadata": {
        "colab": {
          "base_uri": "https://localhost:8080/"
        },
        "id": "LjlkBkETrZm4",
        "outputId": "f3f5caea-5a71-4aea-9fa2-de6454cf48ac"
      },
      "execution_count": 20,
      "outputs": [
        {
          "output_type": "stream",
          "name": "stdout",
          "text": [
            " a shape = (3, 1), np.array: a = [[5]\n",
            " [4]\n",
            " [3]]\n",
            " a shape = (3, 1), np.array: a = [[5]\n",
            " [4]\n",
            " [3]]\n"
          ]
        }
      ]
    },
    {
      "cell_type": "markdown",
      "source": [
        "<a name=\"toc_40015_4.4\"></a>\n",
        "## 4.4 Operations on Matrices\n",
        "행렬을 이용한 연산에 대해서 살펴보자"
      ],
      "metadata": {
        "id": "d1Pom978rdCq"
      }
    },
    {
      "cell_type": "markdown",
      "source": [
        "<a name=\"toc_40015_4.4.1\"></a>\n",
        "### 4.4.1 Indexing\n"
      ],
      "metadata": {
        "id": "xU9VA8s7rd6D"
      }
    },
    {
      "cell_type": "markdown",
      "source": [
        "행렬은 2개의 index를 가지고 있다. 두개의 index는 [row, column]으로 표시된다.각각의 element나 row/column에 대한 접근이 가능하다. 아래에서 확인해보자"
      ],
      "metadata": {
        "id": "nq3yRtnsre2L"
      }
    },
    {
      "cell_type": "code",
      "source": [
        "#vector indexing operations on matrices\n",
        "a = np.arange(6).reshape(-1, 2)   #reshape is a convenient way to create matrices\n",
        "print(f\"a.shape: {a.shape}, \\na= {a}\")\n",
        "\n",
        "#access an element\n",
        "print(f\"\\na[2,0].shape:   {a[2, 0].shape}, a[2,0] = {a[2, 0]},     type(a[2,0]) = {type(a[2, 0])} Accessing an element returns a scalar\\n\")\n",
        "\n",
        "#access a row\n",
        "print(f\"a[2].shape:   {a[2].shape}, a[2]   = {a[2]}, type(a[2])   = {type(a[2])}\")"
      ],
      "metadata": {
        "colab": {
          "base_uri": "https://localhost:8080/"
        },
        "id": "q026-GKdrcMc",
        "outputId": "86ccfcc1-9191-40cf-b70c-a5f389d44455"
      },
      "execution_count": 23,
      "outputs": [
        {
          "output_type": "stream",
          "name": "stdout",
          "text": [
            "a.shape: (3, 2), \n",
            "a= [[0 1]\n",
            " [2 3]\n",
            " [4 5]]\n",
            "\n",
            "a[2,0].shape:   (), a[2,0] = 4,     type(a[2,0]) = <class 'numpy.int64'> Accessing an element returns a scalar\n",
            "\n",
            "a[2].shape:   (2,), a[2]   = [4 5], type(a[2])   = <class 'numpy.ndarray'>\n"
          ]
        }
      ]
    },
    {
      "cell_type": "markdown",
      "source": [
        "마지막 예시에 주목할 필요가 있는데, 행을 지정해서 접근시 1차원 vector가 반환된다.  \n",
        "또한, Numpy배열에서는 `a[2,0]`처럼 사용시 3번째 행의 첫번째 element를 반환한다. 단, 일반적인 python에서 이와 같은 indexing 방법은 사용할 수 없다."
      ],
      "metadata": {
        "id": "PXxISrFfrg8s"
      }
    },
    {
      "cell_type": "markdown",
      "source": [
        "**Reshape**  \n",
        "The previous example used [reshape](https://numpy.org/doc/stable/reference/generated/numpy.reshape.html) to shape the array.  \n",
        "`a = np.arange(6).reshape(-1, 2) `   \n",
        "해당 라인은 먼저 6개 요소의 1차원 벡터를 생성했다. 이후 reshape 함수를 사용해서 해당 벡터를 2차원 배열로 다시 형성할 수 있다.  \n",
        "`a = np.arange(6).reshape(3, 2) `  \n",
        "3(행)x2(열) 배열을 도출한다.  \n",
        "-1 인수는 배열의 크기와 주어진 열 개수를 고려해서 행 개수를 스스로 계산하도록 지시한다.\n",
        "\n"
      ],
      "metadata": {
        "id": "4wvevvH1rhj6"
      }
    },
    {
      "cell_type": "markdown",
      "source": [
        "<a name=\"toc_40015_4.4.2\"></a>\n",
        "### 4.4.2 Slicing\n",
        "Slicing creates an array of indices using a set of three values (`start:stop:step`). A subset of values is also valid. Its use is best explained by example:"
      ],
      "metadata": {
        "id": "RjZrwwwTri-_"
      }
    },
    {
      "cell_type": "code",
      "source": [
        "#vector 2-D slicing operations\n",
        "a = np.arange(20).reshape(-1, 10)\n",
        "print(f\"a = \\n{a}\")\n",
        "\n",
        "#access 5 consecutive elements (start:stop:step)\n",
        "print(\"a[0, 2:7:1] = \", a[0, 2:7:1], \",  a[0, 2:7:1].shape =\", a[0, 2:7:1].shape, \"a 1-D array\")\n",
        "\n",
        "#access 5 consecutive elements (start:stop:step) in two rows\n",
        "print(\"a[:, 2:7:1] = \\n\", a[:, 2:7:1], \",  a[:, 2:7:1].shape =\", a[:, 2:7:1].shape, \"a 2-D array\")\n",
        "\n",
        "# access all elements\n",
        "print(\"a[:,:] = \\n\", a[:,:], \",  a[:,:].shape =\", a[:,:].shape)\n",
        "\n",
        "# access all elements in one row (very common usage)\n",
        "print(\"a[1,:] = \", a[1,:], \",  a[1,:].shape =\", a[1,:].shape, \"a 1-D array\")\n",
        "# same as\n",
        "print(\"a[1]   = \", a[1],   \",  a[1].shape   =\", a[1].shape, \"a 1-D array\")\n"
      ],
      "metadata": {
        "colab": {
          "base_uri": "https://localhost:8080/"
        },
        "id": "S_XdJNcqrf3A",
        "outputId": "a6b76278-df31-4374-8511-4c138de27a74"
      },
      "execution_count": 22,
      "outputs": [
        {
          "output_type": "stream",
          "name": "stdout",
          "text": [
            "a = \n",
            "[[ 0  1  2  3  4  5  6  7  8  9]\n",
            " [10 11 12 13 14 15 16 17 18 19]]\n",
            "a[0, 2:7:1] =  [2 3 4 5 6] ,  a[0, 2:7:1].shape = (5,) a 1-D array\n",
            "a[:, 2:7:1] = \n",
            " [[ 2  3  4  5  6]\n",
            " [12 13 14 15 16]] ,  a[:, 2:7:1].shape = (2, 5) a 2-D array\n",
            "a[:,:] = \n",
            " [[ 0  1  2  3  4  5  6  7  8  9]\n",
            " [10 11 12 13 14 15 16 17 18 19]] ,  a[:,:].shape = (2, 10)\n",
            "a[1,:] =  [10 11 12 13 14 15 16 17 18 19] ,  a[1,:].shape = (10,) a 1-D array\n",
            "a[1]   =  [10 11 12 13 14 15 16 17 18 19] ,  a[1].shape   = (10,) a 1-D array\n"
          ]
        }
      ]
    },
    {
      "cell_type": "markdown",
      "source": [
        "<a name=\"toc_40015_5.0\"></a>\n",
        "## Congratulations!\n",
        "In this lab you mastered the features of Python and NumPy that are needed for Course 1."
      ],
      "metadata": {
        "id": "eLYQJoQ0rl81"
      }
    },
    {
      "cell_type": "code",
      "source": [],
      "metadata": {
        "id": "fLVKL9XzrkgW"
      },
      "execution_count": null,
      "outputs": []
    }
  ]
}